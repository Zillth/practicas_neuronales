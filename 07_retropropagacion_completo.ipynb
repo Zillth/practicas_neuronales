{
 "cells": [
  {
   "attachments": {},
   "cell_type": "markdown",
   "metadata": {},
   "source": [
    "# Entrenamiento con retropropagación\n",
    "\n",
    "En este ejercicio implementaremos el algoritmo de retropropagación dentro del descenso por gradiente para actualizar todos los pesos de la red durante varias épocas. Para entrenar la red usaremos el conjunto de datos de calificaciones que vimos previamente.\n",
    "\n"
   ]
  },
  {
   "cell_type": "code",
   "execution_count": 1,
   "metadata": {},
   "outputs": [],
   "source": [
    "#importamos paquetes y datos\n",
    "import numpy as np\n",
    "from data_prep import features, targets, features_test, targets_test\n",
    "\n",
    "# Definiciones útiles\n",
    "np.random.seed(21)\n",
    "\n",
    "def sigmoid_prime(x):\n",
    "    return sigmoid(x)*(1-sigmoid(x))\n",
    "\n",
    "def sigmoid(x):\n",
    "    \"\"\"\n",
    "    Calculate sigmoid\n",
    "    \"\"\"\n",
    "    return 1 / (1 + np.exp(-x))"
   ]
  },
  {
   "cell_type": "code",
   "execution_count": 2,
   "metadata": {},
   "outputs": [
    {
     "name": "stdout",
     "output_type": "stream",
     "text": [
      "Pesos input hidden:\n",
      " [[-0.02121432 -0.0453956 ]\n",
      " [ 0.42531176 -0.51306167]\n",
      " [ 0.30430325 -0.69853477]\n",
      " [-0.08404378 -0.09576333]\n",
      " [ 0.46056288 -0.00515452]\n",
      " [-0.25033797  0.56080598]]\n",
      "Pesos hidden output:\n",
      " [ 0.65768472 -0.28137626]\n"
     ]
    }
   ],
   "source": [
    "# Hyperparámetros\n",
    "n_hidden = 2  # number of hidden units\n",
    "epochs = 900\n",
    "learnrate = 0.005\n",
    "\n",
    "# Obtenemos el número de entradas (features) asi como el número de ejemplos (n_records)\n",
    "n_records, n_features = features.shape\n",
    "last_loss = None\n",
    "\n",
    "# Creamos las matrices de los pesos.\n",
    "weights_input_hidden = np.random.normal(scale=1 / n_features ** .5,\n",
    "                                        size=(n_features, n_hidden))\n",
    "weights_hidden_output = np.random.normal(scale=1 / n_features ** .5,\n",
    "                                         size=n_hidden)\n",
    "\n",
    "print('Pesos input hidden:\\n', weights_input_hidden)\n",
    "print('Pesos hidden output:\\n', weights_hidden_output)\n"
   ]
  },
  {
   "attachments": {},
   "cell_type": "markdown",
   "metadata": {},
   "source": [
    "## Entrenamiento"
   ]
  },
  {
   "cell_type": "code",
   "execution_count": 3,
   "metadata": {},
   "outputs": [
    {
     "name": "stdout",
     "output_type": "stream",
     "text": [
      "Train loss:  0.2706673334333724\n",
      "Train loss:  0.22086600060737027\n",
      "Train loss:  0.22251391945696458   WARNING - Loss Increasing\n",
      "Train loss:  0.2260737104840863   WARNING - Loss Increasing\n",
      "Train loss:  0.23065940616148367   WARNING - Loss Increasing\n",
      "Train loss:  0.23500594642183262   WARNING - Loss Increasing\n",
      "Train loss:  0.23844362284780254   WARNING - Loss Increasing\n",
      "Train loss:  0.24088681434970674   WARNING - Loss Increasing\n",
      "Train loss:  0.24249300286741457   WARNING - Loss Increasing\n",
      "Train loss:  0.24347395871314007   WARNING - Loss Increasing\n",
      "Prediction accuracy: 0.750\n"
     ]
    }
   ],
   "source": [
    "for e in range(epochs):\n",
    "    del_w_input_hidden = np.zeros(weights_input_hidden.shape)\n",
    "    del_w_hidden_output = np.zeros(weights_hidden_output.shape)\n",
    "    for x, y in zip(features.values, targets):\n",
    "        ## Forward pass ##\n",
    "        # TODO: Calculate the output\n",
    "        x = np.array(x, dtype=float)\n",
    "        hidden_input = np.dot(x.reshape(1,n_features), weights_input_hidden)[0]\n",
    "        hidden_output = np.array([sigmoid(v) for v in hidden_input])\n",
    "        output = sigmoid(np.dot(hidden_output, weights_hidden_output.reshape(n_hidden,1))[0])\n",
    "\n",
    "        ## Backward pass ##\n",
    "        # TODO: Calculate the error\n",
    "        error = y - output\n",
    "\n",
    "        # TODO: Calculate error gradient in output unit\n",
    "        output_error = error * (output) * (1 - output)\n",
    "\n",
    "        # TODO: propagate errors to hidden layer\n",
    "        f_prime = np.array([sigmoid_prime(v) for v in hidden_input])\n",
    "        hidden_error = output_error * np.array([a * b for a, b in zip(weights_hidden_output, f_prime)])\n",
    "\n",
    "        # TODO: Update the change in weights\n",
    "        del_w_hidden_output += learnrate * np.dot(output_error, hidden_output)\n",
    "        del_w_input_hidden += learnrate * np.dot(x.reshape(n_features,1), hidden_error.reshape(1,n_hidden))\n",
    "\n",
    "    # TODO: Update weights\n",
    "    weights_input_hidden += del_w_input_hidden\n",
    "    weights_hidden_output += del_w_hidden_output\n",
    "\n",
    "    # Printing out the mean square error on the training set\n",
    "    if e % (epochs / 10) == 0:\n",
    "        hidden_input = np.dot(x.reshape(1,n_features), weights_input_hidden)[0]\n",
    "        hidden_output = [sigmoid(v) for v in hidden_input]\n",
    "        out = sigmoid(np.dot(hidden_output, weights_hidden_output.reshape(n_hidden,1))[0])\n",
    "        loss = np.mean((out - targets) ** 2)\n",
    "\n",
    "        if last_loss and last_loss < loss:\n",
    "            print(\"Train loss: \", loss, \"  WARNING - Loss Increasing\")\n",
    "        else:\n",
    "            print(\"Train loss: \", loss)\n",
    "        last_loss = loss\n",
    "\n",
    "# Calculate accuracy on test data\n",
    "hidden_input = np.dot(x.reshape(1,n_features), weights_input_hidden)[0]\n",
    "hidden_output = [sigmoid(v) for v in hidden_input]\n",
    "out = sigmoid(np.dot(hidden_output, weights_hidden_output.reshape(n_hidden,1))[0])\n",
    "predictions = out > 0.5\n",
    "accuracy = np.mean(predictions == targets_test)\n",
    "print(\"Prediction accuracy: {:.3f}\".format(accuracy))"
   ]
  },
  {
   "cell_type": "code",
   "execution_count": null,
   "metadata": {},
   "outputs": [],
   "source": []
  }
 ],
 "metadata": {
  "kernelspec": {
   "display_name": "nni",
   "language": "python",
   "name": "python3"
  },
  "language_info": {
   "codemirror_mode": {
    "name": "ipython",
    "version": 3
   },
   "file_extension": ".py",
   "mimetype": "text/x-python",
   "name": "python",
   "nbconvert_exporter": "python",
   "pygments_lexer": "ipython3",
   "version": "3.11.5"
  },
  "orig_nbformat": 4,
  "vscode": {
   "interpreter": {
    "hash": "cbad788490f55b163920bee5e9d5e0cba00db5905dc94f4bdbe0011e55bf465f"
   }
  }
 },
 "nbformat": 4,
 "nbformat_minor": 2
}
