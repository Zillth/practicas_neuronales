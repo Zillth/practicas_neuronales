{
 "cells": [
  {
   "attachments": {},
   "cell_type": "markdown",
   "metadata": {},
   "source": [
    "# Red Neuronal Simple\n",
    "\n",
    "En este notebook programaremos una red neuronal simple (perceptron) utilizando numpy. El objetivo es que comprendamos el funcionamiento del perceptrón y que practiquemos la programación en Python. En la siguiente figura se encuentra una representación del perceptrón.\n",
    "\n",
    "\n",
    "<img src=\"files/simple_nn_notebook.png\">\n",
    "\n",
    "[![Open In Colab](https://colab.research.google.com/assets/colab-badge.svg)](https://colab.research.google.com/github/irvingvasquez/cv2course_intro_nn/blob/master/02_red_neuronal_simple.ipynb)\n",
    "\n",
    "@juan1rving\n"
   ]
  },
  {
   "cell_type": "code",
   "execution_count": 1,
   "metadata": {},
   "outputs": [],
   "source": [
    "# Cargamos paquetes\n",
    "import numpy as np\n",
    "import pandas as pd"
   ]
  },
  {
   "attachments": {},
   "cell_type": "markdown",
   "metadata": {},
   "source": [
    "## Calcular producto punto\n",
    "\n",
    "El primer paso es calcular el logit, *h*, a partir del producto punto. La fórmula explícita es la siguiente:\n",
    "\n",
    "$$ h = W X +b $$"
   ]
  },
  {
   "cell_type": "code",
   "execution_count": 2,
   "metadata": {},
   "outputs": [],
   "source": [
    "# TODO: Implementar la función H\n",
    "\n",
    "def function_h(X, W, b):\n",
    "    suma = np.dot(X,W) + b\n",
    "    return suma"
   ]
  },
  {
   "attachments": {},
   "cell_type": "markdown",
   "metadata": {},
   "source": [
    "## Función de activación\n",
    "\n",
    "Para este ejemplo utilizaremos la función sigmoide como función de activación.\n",
    "\n",
    "$$ f(x) =  \\frac{\\mathrm{1} }{\\mathrm{1} + e^{-x} }  $$ "
   ]
  },
  {
   "cell_type": "code",
   "execution_count": 3,
   "metadata": {},
   "outputs": [],
   "source": [
    "# TODO: Implementar la función de activación. \n",
    "# En este ejemplo utilizaremos la función sigmoide.\n",
    "\n",
    "def sigmoid(x):\n",
    "    sg = np.divide(1, 1 + np.power(np.e, -x))\n",
    "    return sg"
   ]
  },
  {
   "cell_type": "markdown",
   "metadata": {},
   "source": [
    "## Probar la red\n",
    "\n",
    "Ahora definamos unos pesos y veamos el resultado de una pasada frontal (fordward pass)."
   ]
  },
  {
   "cell_type": "code",
   "execution_count": 4,
   "metadata": {},
   "outputs": [
    {
     "name": "stdout",
     "output_type": "stream",
     "text": [
      "Output:\n",
      "0.4329070950345457\n"
     ]
    }
   ],
   "source": [
    "# Definamos unos pesos y sesgo\n",
    "inputs = np.array([0.7, -0.3])\n",
    "weights = np.array([0.1, 0.8])\n",
    "bias = -0.1\n",
    "\n",
    "# Pasada frontal\n",
    "h = function_h(inputs,weights,bias)\n",
    "output = sigmoid(h)\n",
    "\n",
    "print('Output:')\n",
    "print(output)\n"
   ]
  },
  {
   "attachments": {},
   "cell_type": "markdown",
   "metadata": {},
   "source": [
    "## Pruebas extra\n",
    " \n",
    "- Define una función de activación de tipo escalón, \"heaviside\".  \n",
    "- ¿Cuáles son los pesos que definen una función OR?"
   ]
  },
  {
   "cell_type": "code",
   "execution_count": 5,
   "metadata": {},
   "outputs": [],
   "source": [
    "# TODO: Completar el código\n",
    "def escalon(x):\n",
    "    return int(x >= 0)"
   ]
  },
  {
   "cell_type": "code",
   "execution_count": 6,
   "metadata": {},
   "outputs": [],
   "source": [
    "# TODO: Realizar el pase frontal y muesta los resultados que concuerdan con la función OR"
   ]
  },
  {
   "cell_type": "code",
   "execution_count": 7,
   "metadata": {},
   "outputs": [
    {
     "name": "stdout",
     "output_type": "stream",
     "text": [
      "Bien!  Acertaste todas.\n",
      "\n",
      " Input 1    Input 2    Linear Combination    Activation Output   Is Correct\n",
      "       0          0                  -0.1                    0          Yes\n",
      "       0          1                   0.7                    1          Yes\n",
      "       1          0                   0.0                    1          Yes\n",
      "       1          1                   0.8                    1          Yes\n"
     ]
    }
   ],
   "source": [
    "test_inputs = [(0, 0), (0, 1), (1, 0), (1, 1)]\n",
    "correct_outputs = [False, True, True, True]\n",
    "outputs = []\n",
    "\n",
    "# Generar y revisar\n",
    "for test_input, correct_output in zip(test_inputs, correct_outputs):\n",
    "    linear_combination = weights[0] * test_input[0] + weights[1] * test_input[1] + bias\n",
    "    output = escalon(linear_combination)\n",
    "    is_correct_string = 'Yes' if output == correct_output else 'No'\n",
    "    outputs.append([test_input[0], test_input[1], linear_combination, output, is_correct_string])\n",
    "\n",
    "# Escribir resultados\n",
    "num_wrong = len([output[4] for output in outputs if output[4] == 'No'])\n",
    "output_frame = pd.DataFrame(outputs, columns=['Input 1', '  Input 2', '  Linear Combination', '  Activation Output', '  Is Correct'])\n",
    "if not num_wrong:\n",
    "    print('Bien!  Acertaste todas.\\n')\n",
    "else:\n",
    "    print('Obtuvieste {} mal.  Debes poner otros pesos!\\n'.format(num_wrong))\n",
    "print(output_frame.to_string(index=False))"
   ]
  }
 ],
 "metadata": {
  "kernelspec": {
   "display_name": "nni",
   "language": "python",
   "name": "python3"
  },
  "language_info": {
   "codemirror_mode": {
    "name": "ipython",
    "version": 3
   },
   "file_extension": ".py",
   "mimetype": "text/x-python",
   "name": "python",
   "nbconvert_exporter": "python",
   "pygments_lexer": "ipython3",
   "version": "3.11.5"
  },
  "vscode": {
   "interpreter": {
    "hash": "cbad788490f55b163920bee5e9d5e0cba00db5905dc94f4bdbe0011e55bf465f"
   }
  },
  "widgets": {
   "state": {},
   "version": "1.1.2"
  }
 },
 "nbformat": 4,
 "nbformat_minor": 2
}
